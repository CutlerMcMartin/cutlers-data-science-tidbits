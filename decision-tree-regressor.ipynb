{
 "metadata": {
  "language_info": {
   "codemirror_mode": {
    "name": "ipython",
    "version": 3
   },
   "file_extension": ".py",
   "mimetype": "text/x-python",
   "name": "python",
   "nbconvert_exporter": "python",
   "pygments_lexer": "ipython3",
   "version": "3.8.5-final"
  },
  "orig_nbformat": 2,
  "kernelspec": {
   "name": "python3",
   "display_name": "Python 3.8.5 32-bit",
   "metadata": {
    "interpreter": {
     "hash": "1ae952183117c4c8d4686c418d99fd504345b3bf0a63b096deebd1cf2967c4b9"
    }
   }
  }
 },
 "nbformat": 4,
 "nbformat_minor": 2,
 "cells": [
  {
   "source": [
    "# Decision Tree Regressor Model Setup and Validation"
   ],
   "cell_type": "markdown",
   "metadata": {}
  },
  {
   "source": [
    "## Modules are helpful"
   ],
   "cell_type": "markdown",
   "metadata": {}
  },
  {
   "cell_type": "code",
   "execution_count": null,
   "metadata": {},
   "outputs": [],
   "source": [
    "import pandas as pd\n",
    "import numpy as np\n",
    "from sklearn.tree import DecisionTreeRegressor\n",
    "from sklearn.model_selection import train_test_split\n",
    "from sklearn.metrics import mean_absolute_error"
   ]
  },
  {
   "source": [
    "## Importing Data"
   ],
   "cell_type": "markdown",
   "metadata": {}
  },
  {
   "cell_type": "code",
   "execution_count": null,
   "metadata": {},
   "outputs": [],
   "source": [
    "# Path of the file to read\n",
    "data_path = '../path/to/data.csv'\n",
    "the_data = pd.read_csv(data_path)\n",
    "test_data_path = '../path/to/test.csv'\n",
    "test_data = pd.read_csv(test_data_path)"
   ]
  },
  {
   "source": [
    "## Checking initial column names"
   ],
   "cell_type": "markdown",
   "metadata": {}
  },
  {
   "cell_type": "code",
   "execution_count": 1,
   "metadata": {},
   "outputs": [],
   "source": [
    "the_data.columns"
   ]
  },
  {
   "source": [
    "## Checking the first few rows of the data"
   ],
   "cell_type": "markdown",
   "metadata": {}
  },
  {
   "cell_type": "code",
   "execution_count": null,
   "metadata": {},
   "outputs": [],
   "source": [
    "the_data.head()"
   ]
  },
  {
   "source": [
    "## Selecting the target variable"
   ],
   "cell_type": "markdown",
   "metadata": {}
  },
  {
   "cell_type": "code",
   "execution_count": null,
   "metadata": {},
   "outputs": [],
   "source": [
    "y = the_data[\"Target\"]"
   ]
  },
  {
   "source": [
    "## Setting up the feature list that are used to predict the target"
   ],
   "cell_type": "markdown",
   "metadata": {}
  },
  {
   "cell_type": "code",
   "execution_count": null,
   "metadata": {},
   "outputs": [],
   "source": [
    "# Create the list of features below\n",
    "feature_names = [\"Feature_1\",\"Feature_2\",\"Feature_3\"]\n",
    "\n",
    "# Select data corresponding to features in feature_names\n",
    "X = the_data[feature_names]"
   ]
  },
  {
   "source": [
    "## Reviewing the features"
   ],
   "cell_type": "markdown",
   "metadata": {}
  },
  {
   "cell_type": "code",
   "execution_count": null,
   "metadata": {},
   "outputs": [],
   "source": [
    "# print description or statistics from X\n",
    "print(X.describe())\n",
    "\n",
    "# print the top few lines\n",
    "print(X.head())"
   ]
  },
  {
   "source": [
    "## Spliting up the model into training and validation"
   ],
   "cell_type": "markdown",
   "metadata": {}
  },
  {
   "cell_type": "code",
   "execution_count": null,
   "metadata": {},
   "outputs": [],
   "source": [
    "train_X, val_X, train_y, val_y = train_test_split(X, y, random_state = 7)"
   ]
  },
  {
   "source": [
    "## Making the model"
   ],
   "cell_type": "markdown",
   "metadata": {}
  },
  {
   "cell_type": "code",
   "execution_count": null,
   "metadata": {},
   "outputs": [],
   "source": [
    "#For model reproducibility, set a numeric value for random_state when specifying the model\n",
    "model = DecisionTreeRegressor(random_state=7)\n",
    "\n",
    "# Fit the model\n",
    "model.fit(train_X, train_y)"
   ]
  },
  {
   "source": [
    "## Making predictions and checking how well the model did"
   ],
   "cell_type": "markdown",
   "metadata": {}
  },
  {
   "cell_type": "code",
   "execution_count": null,
   "metadata": {},
   "outputs": [],
   "source": [
    "val_predictions = model.predict(val_X)\n",
    "#print(val_predictions[0:20])\n",
    "print(mean_absolute_error(val_y, val_predictions))"
   ]
  },
  {
   "source": [
    "## A function that checks the Mean Absolute Error of Decision Tree Depth Configurations"
   ],
   "cell_type": "markdown",
   "metadata": {}
  },
  {
   "cell_type": "code",
   "execution_count": null,
   "metadata": {},
   "outputs": [],
   "source": [
    "def get_mae(max_leaf_nodes, train_X, val_X, train_y, val_y):\n",
    "    model = DecisionTreeRegressor(max_leaf_nodes=max_leaf_nodes, random_state=0)\n",
    "    model.fit(train_X, train_y)\n",
    "    preds_val = model.predict(val_X)\n",
    "    mae = mean_absolute_error(val_y, preds_val)\n",
    "    return(mae)"
   ]
  },
  {
   "source": [
    "## Using the get_mea() function to see the best depth of the Decision Tree Regressor"
   ],
   "cell_type": "markdown",
   "metadata": {}
  },
  {
   "cell_type": "code",
   "execution_count": null,
   "metadata": {},
   "outputs": [],
   "source": [
    "# Making a list of all the tree node depths to check\n",
    "depths_to_check = [5, 50, 500, 5000]\n",
    "for max_leaf_nodes in depths_to_check:\n",
    "    my_mae = get_mae(max_leaf_nodes, train_X, val_X, train_y, val_y)\n",
    "    print(\"Max leaf nodes: %d  \\t\\t Mean Absolute Error:  %d\" %(max_leaf_nodes, my_mae))"
   ]
  },
  {
   "source": [
    "# References\n",
    "#### Intro to Machine Learning on Kaggle by Dan Becker: https://www.kaggle.com/learn/intro-to-machine-learning\n",
    "#### Scikit's documentation on DecisionTreeRegressor: https://scikit-learn.org/stable/modules/generated/sklearn.tree.DecisionTreeRegressor.html"
   ],
   "cell_type": "markdown",
   "metadata": {}
  }
 ]
}