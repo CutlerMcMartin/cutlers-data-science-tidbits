{
 "metadata": {
  "language_info": {
   "codemirror_mode": {
    "name": "ipython",
    "version": 3
   },
   "file_extension": ".py",
   "mimetype": "text/x-python",
   "name": "python",
   "nbconvert_exporter": "python",
   "pygments_lexer": "ipython3",
   "version": 3
  },
  "orig_nbformat": 2
 },
 "nbformat": 4,
 "nbformat_minor": 2,
 "cells": [
  {
   "source": [
    "## Calculating how much missing data there is"
   ],
   "cell_type": "markdown",
   "metadata": {}
  },
  {
   "cell_type": "code",
   "execution_count": null,
   "metadata": {},
   "outputs": [],
   "source": [
    "# Gives a dataframe with the number of missing rows in each column\n",
    "missing_values_count = dataframe.isnull().sum()\n",
    "\n",
    "# Calculates the total number of cells that don't have data in them\n",
    "total_missing = missing_values_count.sum()\n",
    "\n",
    "# The percentage of the dataframe that doesn't have any data in it\n",
    "total_cells = np.product(dataframe.shape)\n",
    "percent_missing = (total_missing/total_cells) * 100"
   ]
  }
 ]
}