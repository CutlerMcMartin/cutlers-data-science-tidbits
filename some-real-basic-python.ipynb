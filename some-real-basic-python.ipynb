{
 "metadata": {
  "language_info": {
   "codemirror_mode": {
    "name": "ipython",
    "version": 3
   },
   "file_extension": ".py",
   "mimetype": "text/x-python",
   "name": "python",
   "nbconvert_exporter": "python",
   "pygments_lexer": "ipython3",
   "version": "3.8.5-final"
  },
  "orig_nbformat": 2,
  "kernelspec": {
   "name": "python3",
   "display_name": "Python 3.8.5 32-bit",
   "metadata": {
    "interpreter": {
     "hash": "1ae952183117c4c8d4686c418d99fd504345b3bf0a63b096deebd1cf2967c4b9"
    }
   }
  }
 },
 "nbformat": 4,
 "nbformat_minor": 2,
 "cells": [
  {
   "source": [
    "## Finding the type of a variable (Used more than I'd like to admit)"
   ],
   "cell_type": "markdown",
   "metadata": {}
  },
  {
   "cell_type": "code",
   "execution_count": null,
   "metadata": {},
   "outputs": [],
   "source": [
    "type(variable)"
   ]
  },
  {
   "source": [
    "## Get help with a function"
   ],
   "cell_type": "markdown",
   "metadata": {}
  },
  {
   "cell_type": "code",
   "execution_count": null,
   "metadata": {},
   "outputs": [],
   "source": [
    "help(function)"
   ]
  },
  {
   "source": [
    "## Operators"
   ],
   "cell_type": "markdown",
   "metadata": {}
  },
  {
   "cell_type": "code",
   "execution_count": null,
   "metadata": {},
   "outputs": [],
   "source": [
    "a = 5\n",
    "b = 3\n",
    "\n",
    "# Addition\n",
    "a + b = 5 + 3 = 5\n",
    "# Subtraction\n",
    "a - b = 5 - 3 = 2\n",
    "# Multiplication\n",
    "a * b = 5 * 3 = 15\n",
    "# Devision\n",
    "a / b = 5 / 3 = 1.666666667\n",
    "# Floor Devision\n",
    "a // b = 5 // 3 = 1\n",
    "# Modulus or the remainder after the division of a by b\n",
    "a % b = 5 % 3 = 2\n",
    "# Exponent\n",
    "a ** b = 5 ** 3 = 125"
   ]
  },
  {
   "source": [
    "## Defining a function"
   ],
   "cell_type": "markdown",
   "metadata": {}
  },
  {
   "cell_type": "code",
   "execution_count": null,
   "metadata": {},
   "outputs": [],
   "source": [
    "def useless_function(variable):\n",
    "    return variable"
   ]
  },
  {
   "source": [
    "## Comparison Operators"
   ],
   "cell_type": "markdown",
   "metadata": {}
  },
  {
   "cell_type": "code",
   "execution_count": null,
   "metadata": {},
   "outputs": [],
   "source": [
    "# a is equal to b\n",
    "a == b\n",
    "# a is less than b\n",
    "a < b\n",
    "# a is less than or equal to b\n",
    "a <= b\n",
    "# a is greather than b\n",
    "a > b\n",
    "# a is greater than or equal to b\n",
    "a >= b\n",
    "# a is not equal to b\n",
    "a != b\n",
    "# and operator\n",
    "a and a\n",
    "# or operator\n",
    "a or b\n",
    "# not operator\n",
    "not b"
   ]
  },
  {
   "source": [
    "## Boolean conversion"
   ],
   "cell_type": "markdown",
   "metadata": {}
  },
  {
   "cell_type": "code",
   "execution_count": null,
   "metadata": {},
   "outputs": [],
   "source": [
    "print(bool(1)) # all numbers are treated as true, except 0\n",
    "print(bool(0)) # is falese\n",
    "print(bool(\"asf\")) # all strings are treated as true, except the empty string \"\"\n",
    "print(bool(\"\")) # is falese\n",
    "# Generally empty sequences (strings, lists, and other types we've yet to see like lists and tuples) are \"falsey\" and the rest are \"truthy\""
   ]
  },
  {
   "cell_type": "code",
   "execution_count": 2,
   "metadata": {},
   "outputs": [
    {
     "output_type": "stream",
     "name": "stdout",
     "text": [
      "spam\n"
     ]
    }
   ],
   "source": [
    "# This is a runable cell. It is also a joke. Why is python this way.\n",
    "if 0:\n",
    "    print(0)\n",
    "elif \"spam\":\n",
    "    print(\"spam\")"
   ]
  },
  {
   "source": [
    "## How to make a list"
   ],
   "cell_type": "markdown",
   "metadata": {}
  },
  {
   "cell_type": "code",
   "execution_count": null,
   "metadata": {},
   "outputs": [],
   "source": [
    "generic_list = [\"this\",\"is\",\"a\",\"generic\",\"list\",32,False]"
   ]
  },
  {
   "source": [
    "## List indexing and slicing"
   ],
   "cell_type": "markdown",
   "metadata": {}
  },
  {
   "cell_type": "code",
   "execution_count": 6,
   "metadata": {},
   "outputs": [
    {
     "output_type": "stream",
     "name": "stdout",
     "text": [
      "primes\n[2, 3, 5, 7]\nplanets\n['Mercury', 'Venus', 'Earth', 'Mars', 'Jupiter', 'Saturn', 'Uranus', 'Neptune']\nplanets[0]\nMercury\nplanets[-1]\nNeptune\nplanets[0:3]\n['Mercury', 'Venus', 'Earth']\nplanets[:3]\n['Mercury', 'Venus', 'Earth']\nplanets[3:]\n['Mars', 'Jupiter', 'Saturn', 'Uranus', 'Neptune']\n"
     ]
    }
   ],
   "source": [
    "primes = [2, 3, 5, 7]\n",
    "planets = ['Mercury', 'Venus', 'Earth', 'Mars', 'Jupiter', 'Saturn', 'Uranus', 'Neptune']\n",
    "print(\"primes\")\n",
    "print(primes)\n",
    "print(\"planets\")\n",
    "print(planets)\n",
    "\n",
    "# Get first item\n",
    "print(\"planets[0]\")\n",
    "print(planets[0])\n",
    "\n",
    "# Get the last item\n",
    "print(\"planets[-1]\")\n",
    "print(planets[-1])\n",
    "\n",
    "# Get the first three items on a list\n",
    "print(\"planets[0:3]\")\n",
    "print(planets[0:3])\n",
    "print(\"planets[:3]\")\n",
    "print(planets[:3])\n",
    "\n",
    "# Get all items after the 3rd item on the list\n",
    "print(\"planets[3:]\")\n",
    "print(planets[3:])\n"
   ]
  },
  {
   "source": [
    "## Adding, appending, popping and changing list"
   ],
   "cell_type": "markdown",
   "metadata": {}
  },
  {
   "cell_type": "code",
   "execution_count": 12,
   "metadata": {},
   "outputs": [
    {
     "output_type": "execute_result",
     "data": {
      "text/plain": [
       "'Pluto'"
      ]
     },
     "metadata": {},
     "execution_count": 12
    }
   ],
   "source": [
    "# Changing the 4th item in a list\n",
    "planets[3] = 'Malacandra'\n",
    "\n",
    "# Adding a item to the end of the list\n",
    "planets.append('Pluto')\n",
    "\n",
    "# 'Popping' off the last item in a list. Also can be used as a cooler version of planets[-1] when assigning\n",
    "still_a_plante = planets.pop()\n",
    "planets.pop()"
   ]
  },
  {
   "source": [
    "## Determing where in the list an item is or if an item is in a list"
   ],
   "cell_type": "markdown",
   "metadata": {}
  },
  {
   "cell_type": "code",
   "execution_count": null,
   "metadata": {},
   "outputs": [],
   "source": [
    "# Gives the index of the item in a list. Throws an error if it isn't in the list.\n",
    "planets.index('Earth')\n",
    "\n",
    "# Checks if an item is in a list. Returns True if it is and False if is not\n",
    "\"Earth\" in planets"
   ]
  },
  {
   "cell_type": "code",
   "execution_count": null,
   "metadata": {},
   "outputs": [],
   "source": []
  }
 ]
}