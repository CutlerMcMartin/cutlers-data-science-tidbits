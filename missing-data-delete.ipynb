{
 "metadata": {
  "language_info": {
   "codemirror_mode": {
    "name": "ipython",
    "version": 3
   },
   "file_extension": ".py",
   "mimetype": "text/x-python",
   "name": "python",
   "nbconvert_exporter": "python",
   "pygments_lexer": "ipython3",
   "version": "3.8.5-final"
  },
  "orig_nbformat": 2,
  "kernelspec": {
   "name": "python3",
   "display_name": "Python 3.8.5 32-bit",
   "metadata": {
    "interpreter": {
     "hash": "1ae952183117c4c8d4686c418d99fd504345b3bf0a63b096deebd1cf2967c4b9"
    }
   }
  }
 },
 "nbformat": 4,
 "nbformat_minor": 2,
 "cells": [
  {
   "source": [
    "## Modules are helpful"
   ],
   "cell_type": "markdown",
   "metadata": {}
  },
  {
   "cell_type": "code",
   "execution_count": null,
   "metadata": {},
   "outputs": [],
   "source": [
    "import pandas as pd\n",
    "import numpy as np\n",
    "from sklearn.impute import SimpleImputer"
   ]
  },
  {
   "source": [
    "## Calculating how much missing data there is"
   ],
   "cell_type": "markdown",
   "metadata": {}
  },
  {
   "cell_type": "code",
   "execution_count": null,
   "metadata": {},
   "outputs": [],
   "source": [
    "# Gives a dataframe with the number of missing rows in each column\n",
    "missing_values_count = dataframe.isnull().sum()\n",
    "\n",
    "# Calculates the total number of cells that don't have data in them\n",
    "total_missing = missing_values_count.sum()\n",
    "\n",
    "# The percentage of the dataframe that doesn't have any data in it\n",
    "total_cells = np.product(dataframe.shape)\n",
    "percent_missing = (total_missing/total_cells) * 100"
   ]
  },
  {
   "source": [
    "## Drop rows or columns with missing values (Can skew data real quick)"
   ],
   "cell_type": "markdown",
   "metadata": {}
  },
  {
   "cell_type": "code",
   "execution_count": null,
   "metadata": {},
   "outputs": [],
   "source": [
    "# Drop rows with any missing data\n",
    "new_dataframe = dataset.dropna()\n",
    "\n",
    "# Drop rows with any missing data in the specific columns listed. \n",
    "na_drop_col_list = ['feature1', 'feature2']\n",
    "new_dataframe = dataset.dropna(subset=na_drop_col_list)\n",
    "\n",
    "# Drop columns with any missing data\n",
    "new_dataframe = dataset.dropna(axis=1)"
   ]
  },
  {
   "source": [
    "## Fill in missing values"
   ],
   "cell_type": "markdown",
   "metadata": {}
  },
  {
   "cell_type": "code",
   "execution_count": null,
   "metadata": {},
   "outputs": [],
   "source": [
    "new_dataframe = dataframe.fillna(method='bfill', axis=0).fillna(0)"
   ]
  },
  {
   "source": [
    "## Simple Imputer"
   ],
   "cell_type": "markdown",
   "metadata": {}
  },
  {
   "cell_type": "code",
   "execution_count": null,
   "metadata": {},
   "outputs": [],
   "source": [
    "# Imputation.\n",
    "# from sklearn.impute import SimpleImputer\n",
    "my_imputer = SimpleImputer()\n",
    "imputed_X_train = pd.DataFrame(my_imputer.fit_transform(X_train))\n",
    "imputed_X_valid = pd.DataFrame(my_imputer.transform(X_valid))\n",
    "imputed_X_valid = pd.DataFrame(my_imputer.transform(X_valid))\n",
    "\n",
    "# Imputation removed column names; put them back\n",
    "imputed_X_train.columns = X_train.columns\n",
    "imputed_X_valid.columns = X_valid.columns\n",
    "imputed_X_valid.columns = X_valid.columns\n",
    "\n",
    "# Change the dataframe names back\n",
    "X_train = imputed_X_train\n",
    "X_valid = imputed_X_valid\n",
    "X_valid = imputed_X_valid"
   ]
  }
 ]
}